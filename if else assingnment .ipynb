{
 "cells": [
  {
   "cell_type": "markdown",
   "id": "aaf5fe59-6d47-4d04-ac65-4afe6bfbb366",
   "metadata": {},
   "source": [
    "question1:"
   ]
  },
  {
   "cell_type": "code",
   "execution_count": 2,
   "id": "f1a2d7ca-c3a4-4adc-a79a-40148a825cb2",
   "metadata": {},
   "outputs": [
    {
     "name": "stdin",
     "output_type": "stream",
     "text": [
      "enter the number of units: 350\n"
     ]
    },
    {
     "name": "stdout",
     "output_type": "stream",
     "text": [
      "total bill amount is Rs 2000\n"
     ]
    }
   ],
   "source": [
    "units = int(input(\"enter the number of units:\"))\n",
    "bill = 0\n",
    "\n",
    "if units > 200:\n",
    "    bill+= (units-200)*10\n",
    "units=200\n",
    "bill +=(units-100) * 5\n",
    "\n",
    "print(f\"total bill amount is Rs {bill}\")"
   ]
  },
  {
   "cell_type": "markdown",
   "id": "e395a86e-55af-4ad3-89b1-d6d119d4eaa3",
   "metadata": {},
   "source": [
    "question2:"
   ]
  },
  {
   "cell_type": "code",
   "execution_count": 23,
   "id": "ae990975-d861-416f-bbba-33734b27a49d",
   "metadata": {},
   "outputs": [
    {
     "name": "stdin",
     "output_type": "stream",
     "text": [
      "enter your percentage -1\n"
     ]
    },
    {
     "name": "stdout",
     "output_type": "stream",
     "text": [
      "Invalid input\n"
     ]
    }
   ],
   "source": [
    "percentage= float(input(\"enter your percentage\"))\n",
    "\n",
    "if percentage < 0:\n",
    "    print(\"Invalid input\")\n",
    "elif percentage > 90:\n",
    "    print(\"grade A\")\n",
    "elif percentage > 80:\n",
    "    print(\"grade B\")\n",
    "elif percentage >= 60:\n",
    "    print(\"grade C\")\n",
    "else:\n",
    "    print(\"grade D\")"
   ]
  },
  {
   "cell_type": "markdown",
   "id": "862efb1d-43ec-4aae-8eb0-d0b10eca83b2",
   "metadata": {},
   "source": [
    "question3:"
   ]
  },
  {
   "cell_type": "code",
   "execution_count": 27,
   "id": "e43e2f8f-e228-473b-8c75-a66ee221ebf7",
   "metadata": {},
   "outputs": [
    {
     "name": "stdin",
     "output_type": "stream",
     "text": [
      "enter the age 1: 14\n",
      "enter the age 2: 23\n",
      "enter the age 3: 12\n",
      "enter the age 4: 56\n"
     ]
    },
    {
     "name": "stdout",
     "output_type": "stream",
     "text": [
      "age3 is the youngest\n"
     ]
    }
   ],
   "source": [
    "age1 = int(input(\"enter the age 1:\"))\n",
    "age2 = int(input(\"enter the age 2:\"))\n",
    "age3 = int(input(\"enter the age 3:\"))\n",
    "age4 = int(input(\"enter the age 4:\"))\n",
    "\n",
    "youngest =  age1\n",
    "if age2 < age1:\n",
    "    print(\"age2 is the youngest\")\n",
    "elif age3 < age1:\n",
    "    print(\"age3 is the youngest\")\n",
    "elif age4 < age1:\n",
    "    print(\"age4 is the youngest\")\n",
    "else:\n",
    "    print(\"age1 is the youngest\")"
   ]
  },
  {
   "cell_type": "markdown",
   "id": "a573b876-f228-481d-8e67-87bf6d192b46",
   "metadata": {},
   "source": [
    "question4:"
   ]
  },
  {
   "cell_type": "code",
   "execution_count": 34,
   "id": "ad2b96ea-7fce-4ec0-ae23-1b921cbd3618",
   "metadata": {},
   "outputs": [
    {
     "name": "stdin",
     "output_type": "stream",
     "text": [
      "enter the salary: 30000\n",
      "enter the year of service: 7\n"
     ]
    },
    {
     "name": "stdout",
     "output_type": "stream",
     "text": [
      "net_bonus :  2400.0\n"
     ]
    }
   ],
   "source": [
    "salary= float(input(\"enter the salary:\"))\n",
    "year = float(input(\"enter the year of service:\"))\n",
    "if year > 10 :\n",
    "    net_bonus = (10/100)*salary\n",
    "if year >= 6 and year <= 10 :\n",
    "    net_bonus = (8/100)*salary\n",
    "if year > 6 :\n",
    "    print(\"net_bonus : \" , net_bonus)"
   ]
  },
  {
   "cell_type": "markdown",
   "id": "a7507cba-ce0d-4cb1-b965-0df29e57c955",
   "metadata": {},
   "source": [
    "question5:"
   ]
  },
  {
   "cell_type": "code",
   "execution_count": 42,
   "id": "ec174d01-fce3-4881-8e7d-4ac00a852545",
   "metadata": {},
   "outputs": [
    {
     "name": "stdin",
     "output_type": "stream",
     "text": [
      "enter your first number 20\n",
      "enter your second number 25\n",
      "enter your third number 12\n"
     ]
    },
    {
     "name": "stdout",
     "output_type": "stream",
     "text": [
      "second_largest_number is : 12\n"
     ]
    }
   ],
   "source": [
    "a = int(input(\"enter your first number\"))\n",
    "b = int(input(\"enter your second number\"))\n",
    "c = int(input(\"enter your third number\"))\n",
    "if a>b and b<c :\n",
    "    second_largest_number = a\n",
    "elif b>a and b<c :\n",
    "    second_largest_number = b\n",
    "else :\n",
    "    second_largest_number = c\n",
    "print(\"second_largest_number is :\",second_largest_number)"
   ]
  },
  {
   "cell_type": "markdown",
   "id": "c6afd83a-ff5b-4258-851c-f3e36f6d9554",
   "metadata": {},
   "source": [
    "question6:"
   ]
  },
  {
   "cell_type": "code",
   "execution_count": 44,
   "id": "f0ce7c96-f62f-4c9c-b11e-e6d37aa4fb1b",
   "metadata": {},
   "outputs": [
    {
     "name": "stdin",
     "output_type": "stream",
     "text": [
      "enter marked_price 15000\n"
     ]
    },
    {
     "name": "stdout",
     "output_type": "stream",
     "text": [
      "marked_price: Rs15000.0\n",
      "discount_applied : Rs 3000.0\n",
      "net_amount : Rs 12000.0\n"
     ]
    }
   ],
   "source": [
    "marked_price = float(input(\"enter marked_price\"))\n",
    "if marked_price >10000:\n",
    "    discount_percentage=0.20\n",
    "elif marked_price >7000 and marked_price <10000:\n",
    "    discount_percentage=0.15\n",
    "else:\n",
    "    discount_percentage= 0.10\n",
    "discount=marked_price*discount_percentage\n",
    "net_amount =marked_price-discount\n",
    "\n",
    "print(f\"marked_price: Rs{marked_price}\")\n",
    "print(f\"discount_applied : Rs {discount}\")\n",
    "print(f\"net_amount : Rs {net_amount}\")\n"
   ]
  },
  {
   "cell_type": "markdown",
   "id": "e71f10b8-6e4d-4ccc-ae3b-51289d49f3c8",
   "metadata": {},
   "source": [
    "question7:"
   ]
  },
  {
   "cell_type": "code",
   "execution_count": 57,
   "id": "09ca1889-88b3-4cc6-baea-4888e1973c20",
   "metadata": {},
   "outputs": [
    {
     "name": "stdin",
     "output_type": "stream",
     "text": [
      "Enter marks for English:  90\n",
      "Enter marks for Math:  80\n",
      "Enter marks for Science:  90\n",
      "Enter marks for Social Studies:  80\n"
     ]
    },
    {
     "name": "stdout",
     "output_type": "stream",
     "text": [
      "The allotted stream is: Commerce Stream\n"
     ]
    }
   ],
   "source": [
    "# Accept marks for each subject\n",
    "english = int(input(\"Enter marks for English: \"))\n",
    "math = int(input(\"Enter marks for Math: \"))\n",
    "science = int(input(\"Enter marks for Science: \"))\n",
    "social_studies = int(input(\"Enter marks for Social Studies: \"))\n",
    "\n",
    "# Determine the stream based on conditions\n",
    "if english > 80 and math > 80 and science > 80 and social_studies > 80:\n",
    "    stream = \"Science Stream\"\n",
    "elif english > 80 and math > 50 and science > 50:\n",
    "    stream = \"Commerce Stream\"\n",
    "elif english > 80 and social_studies > 80:\n",
    "    stream = \"Humanities Stream\"\n",
    "else:\n",
    "    stream = \"No specific stream allotted\"\n",
    "\n",
    "print(\"The allotted stream is:\", stream)\n"
   ]
  },
  {
   "cell_type": "markdown",
   "id": "44fbd0d6-f03b-4bed-97f3-6e35fedb5032",
   "metadata": {},
   "source": [
    "question8:"
   ]
  },
  {
   "cell_type": "code",
   "execution_count": 62,
   "id": "c34af61b-90fb-43f0-b85a-0ce77ba112b8",
   "metadata": {},
   "outputs": [
    {
     "name": "stdin",
     "output_type": "stream",
     "text": [
      "Enter a number:  23\n"
     ]
    },
    {
     "name": "stdout",
     "output_type": "stream",
     "text": [
      "Bye\n"
     ]
    }
   ],
   "source": [
    "num = int(input(\"Enter a number: \"))\n",
    "\n",
    "if num % 5 == 0:\n",
    "    print(\"Hello\")\n",
    "else:\n",
    "    print(\"Bye\")\n"
   ]
  },
  {
   "cell_type": "markdown",
   "id": "e4a078d5-28ab-45d1-8637-90af8a4f415d",
   "metadata": {},
   "source": [
    "question9:"
   ]
  },
  {
   "cell_type": "code",
   "execution_count": 65,
   "id": "03908ca9-70fb-4781-a8e8-fa014c19481d",
   "metadata": {},
   "outputs": [
    {
     "name": "stdin",
     "output_type": "stream",
     "text": [
      "Enter a number:  9\n"
     ]
    },
    {
     "name": "stdout",
     "output_type": "stream",
     "text": [
      "Yes, the last digit is divisible by 3.\n"
     ]
    }
   ],
   "source": [
    "\n",
    "num = int(input(\"Enter a number: \"))\n",
    "\n",
    "\n",
    "last_digit = num % 10  \n",
    "\n",
    "if last_digit % 3 == 0:\n",
    "    print(\"Yes, the last digit is divisible by 3.\")\n",
    "else:\n",
    "    print(\"No, the last digit is not divisible by 3.\")\n"
   ]
  },
  {
   "cell_type": "markdown",
   "id": "624ab351-e888-4383-b914-e2d1dd1bbdae",
   "metadata": {},
   "source": [
    "question10:"
   ]
  },
  {
   "cell_type": "code",
   "execution_count": 68,
   "id": "7ed05aad-e2de-455f-abc8-3db61b6fca9a",
   "metadata": {},
   "outputs": [
    {
     "name": "stdin",
     "output_type": "stream",
     "text": [
      "Enter a number:  9999\n"
     ]
    },
    {
     "name": "stdout",
     "output_type": "stream",
     "text": [
      "No, it is not a three-digit number.\n"
     ]
    }
   ],
   "source": [
    "num = int(input(\"Enter a number: \"))\n",
    "\n",
    "if 100 <= num <= 999: \n",
    "    print(\"Yes, it is a three-digit number.\")\n",
    "else:\n",
    "    print(\"No, it is not a three-digit number.\")\n"
   ]
  },
  {
   "cell_type": "code",
   "execution_count": null,
   "id": "6dfae92c-198b-4507-9bf5-e7e5fca13975",
   "metadata": {},
   "outputs": [],
   "source": []
  }
 ],
 "metadata": {
  "kernelspec": {
   "display_name": "Python [conda env:base] *",
   "language": "python",
   "name": "conda-base-py"
  },
  "language_info": {
   "codemirror_mode": {
    "name": "ipython",
    "version": 3
   },
   "file_extension": ".py",
   "mimetype": "text/x-python",
   "name": "python",
   "nbconvert_exporter": "python",
   "pygments_lexer": "ipython3",
   "version": "3.12.7"
  }
 },
 "nbformat": 4,
 "nbformat_minor": 5
}
